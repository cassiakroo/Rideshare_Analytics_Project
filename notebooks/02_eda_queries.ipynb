{
 "cells": [
  {
   "cell_type": "markdown",
   "id": "cfda0eb7-d7fd-4916-8887-a381db4039e0",
   "metadata": {},
   "source": [
    "# Rideshare Data Exploration\n",
    "**Dataset:** rideshare.db\n",
    "\n",
    "**Tools:** SQLite, Python\n",
    "\n",
    "**Author:** Cassia Kroo"
   ]
  },
  {
   "cell_type": "markdown",
   "id": "d3c8bf9e-7a91-4bb6-b886-fc884139646d",
   "metadata": {},
   "source": [
    "This project explores data from the rideshare.db database, containing trip-level records from a bike-sharing network. Using SQL and Python, the analysis examines ridership trends, seasonal patterns, station activity, user behavior, and trip outliers. The goal is to uncover actionable insights for operations planning and demand management while demonstrating practical SQL and data visualization skills."
   ]
  },
  {
   "cell_type": "code",
   "execution_count": 1,
   "id": "bfd4eed2-9b68-4b31-aeb4-e8055ac20efc",
   "metadata": {},
   "outputs": [
    {
     "name": "stdout",
     "output_type": "stream",
     "text": [
      "Database successfully connected!\n"
     ]
    }
   ],
   "source": [
    "import sqlite3, os, pandas as pd\n",
    "import matplotlib.pyplot as plt\n",
    "\n",
    "# path to db\n",
    "DB_PATH = os.path.join(\"..\", \"data\", \"rideshare.db\")\n",
    "\n",
    "def run_sql(sql, params=None):\n",
    "    \"\"\"Helper function to run SQL and return a DF.\"\"\"\n",
    "    with sqlite3.connect(DB_PATH) as con:\n",
    "        df =  pd.read_sql_query(sql, con, params=params)\n",
    "    return df\n",
    "print(\"Database successfully connected!\")"
   ]
  },
  {
   "cell_type": "markdown",
   "id": "74d37dd6-c7ce-4133-984f-03816137beae",
   "metadata": {},
   "source": [
    "## 1. Trip Volume & Growth\n",
    "Explore how monthly ridership has changed over time and calculate month-over-month % changes\n",
    "and a 3-month moving average."
   ]
  },
  {
   "cell_type": "markdown",
   "id": "e3906ccc-766c-4388-af75-629a2db09e8c",
   "metadata": {},
   "source": [
    "### 1.1 Query: Monthly Trips and MoM % Change"
   ]
  },
  {
   "cell_type": "code",
   "execution_count": 2,
   "id": "92948357-c93a-4478-9f24-e4c9eb9140f7",
   "metadata": {},
   "outputs": [
    {
     "data": {
      "text/html": [
       "<div>\n",
       "<style scoped>\n",
       "    .dataframe tbody tr th:only-of-type {\n",
       "        vertical-align: middle;\n",
       "    }\n",
       "\n",
       "    .dataframe tbody tr th {\n",
       "        vertical-align: top;\n",
       "    }\n",
       "\n",
       "    .dataframe thead th {\n",
       "        text-align: right;\n",
       "    }\n",
       "</style>\n",
       "<table border=\"1\" class=\"dataframe\">\n",
       "  <thead>\n",
       "    <tr style=\"text-align: right;\">\n",
       "      <th></th>\n",
       "      <th>month</th>\n",
       "      <th>trips</th>\n",
       "      <th>prev_trips</th>\n",
       "      <th>mom_pct</th>\n",
       "      <th>ma3_trips</th>\n",
       "    </tr>\n",
       "  </thead>\n",
       "  <tbody>\n",
       "    <tr>\n",
       "      <th>0</th>\n",
       "      <td>2011-07-01</td>\n",
       "      <td>2618</td>\n",
       "      <td>NaN</td>\n",
       "      <td>NaN</td>\n",
       "      <td>2618.0</td>\n",
       "    </tr>\n",
       "    <tr>\n",
       "      <th>1</th>\n",
       "      <td>2011-08-01</td>\n",
       "      <td>35117</td>\n",
       "      <td>2618.0</td>\n",
       "      <td>1241.37</td>\n",
       "      <td>18867.5</td>\n",
       "    </tr>\n",
       "    <tr>\n",
       "      <th>2</th>\n",
       "      <td>2011-09-01</td>\n",
       "      <td>38184</td>\n",
       "      <td>35117.0</td>\n",
       "      <td>8.73</td>\n",
       "      <td>25306.3</td>\n",
       "    </tr>\n",
       "    <tr>\n",
       "      <th>3</th>\n",
       "      <td>2011-10-01</td>\n",
       "      <td>35691</td>\n",
       "      <td>38184.0</td>\n",
       "      <td>-6.53</td>\n",
       "      <td>36330.7</td>\n",
       "    </tr>\n",
       "    <tr>\n",
       "      <th>4</th>\n",
       "      <td>2011-11-01</td>\n",
       "      <td>24782</td>\n",
       "      <td>35691.0</td>\n",
       "      <td>-30.57</td>\n",
       "      <td>32885.7</td>\n",
       "    </tr>\n",
       "    <tr>\n",
       "      <th>5</th>\n",
       "      <td>2012-03-01</td>\n",
       "      <td>14318</td>\n",
       "      <td>24782.0</td>\n",
       "      <td>-42.22</td>\n",
       "      <td>24930.3</td>\n",
       "    </tr>\n",
       "    <tr>\n",
       "      <th>6</th>\n",
       "      <td>2012-04-01</td>\n",
       "      <td>44154</td>\n",
       "      <td>14318.0</td>\n",
       "      <td>208.38</td>\n",
       "      <td>27751.3</td>\n",
       "    </tr>\n",
       "    <tr>\n",
       "      <th>7</th>\n",
       "      <td>2012-05-01</td>\n",
       "      <td>53447</td>\n",
       "      <td>44154.0</td>\n",
       "      <td>21.05</td>\n",
       "      <td>37306.3</td>\n",
       "    </tr>\n",
       "    <tr>\n",
       "      <th>8</th>\n",
       "      <td>2012-06-01</td>\n",
       "      <td>55704</td>\n",
       "      <td>53447.0</td>\n",
       "      <td>4.22</td>\n",
       "      <td>51101.7</td>\n",
       "    </tr>\n",
       "    <tr>\n",
       "      <th>9</th>\n",
       "      <td>2012-07-01</td>\n",
       "      <td>69987</td>\n",
       "      <td>55704.0</td>\n",
       "      <td>25.64</td>\n",
       "      <td>59712.7</td>\n",
       "    </tr>\n",
       "  </tbody>\n",
       "</table>\n",
       "</div>"
      ],
      "text/plain": [
       "        month  trips  prev_trips  mom_pct  ma3_trips\n",
       "0  2011-07-01   2618         NaN      NaN     2618.0\n",
       "1  2011-08-01  35117      2618.0  1241.37    18867.5\n",
       "2  2011-09-01  38184     35117.0     8.73    25306.3\n",
       "3  2011-10-01  35691     38184.0    -6.53    36330.7\n",
       "4  2011-11-01  24782     35691.0   -30.57    32885.7\n",
       "5  2012-03-01  14318     24782.0   -42.22    24930.3\n",
       "6  2012-04-01  44154     14318.0   208.38    27751.3\n",
       "7  2012-05-01  53447     44154.0    21.05    37306.3\n",
       "8  2012-06-01  55704     53447.0     4.22    51101.7\n",
       "9  2012-07-01  69987     55704.0    25.64    59712.7"
      ]
     },
     "execution_count": 2,
     "metadata": {},
     "output_type": "execute_result"
    }
   ],
   "source": [
    "START_COL = \"start_date\" \n",
    "\n",
    "sql_monthly = f\"\"\"\n",
    "WITH monthly AS (\n",
    "  SELECT\n",
    "    date(strftime('%Y-%m-01', {START_COL})) AS month, \n",
    "    COUNT(*) AS trips                                 \n",
    "  FROM trips\n",
    "  WHERE {START_COL} IS NOT NULL\n",
    "  GROUP BY 1                                         \n",
    ")\n",
    "SELECT\n",
    "  month,\n",
    "  trips,\n",
    "  LAG(trips) OVER (ORDER BY month) AS prev_trips,    \n",
    "  ROUND(\n",
    "    100.0 * (trips - LAG(trips) OVER (ORDER BY month))\n",
    "    / NULLIF(LAG(trips) OVER (ORDER BY month), 0), 2\n",
    "  ) AS mom_pct,                                       \n",
    "  ROUND(\n",
    "    AVG(trips) OVER (ORDER BY month ROWS BETWEEN 2 PRECEDING AND CURRENT ROW),\n",
    "    1\n",
    "  ) AS ma3_trips                                     \n",
    "FROM monthly\n",
    "ORDER BY month;\n",
    "\"\"\"\n",
    "df_monthly = run_sql(sql_monthly)\n",
    "df_monthly.head(10)\n"
   ]
  },
  {
   "cell_type": "markdown",
   "id": "96db1756-72f7-45b2-aaba-99e97580cd67",
   "metadata": {},
   "source": [
    "### 1.2 Visualizations: Monthly Trends"
   ]
  },
  {
   "cell_type": "code",
   "execution_count": 3,
   "id": "9ee53fc8-6f1e-4bab-b09c-028ae3a944de",
   "metadata": {},
   "outputs": [
    {
     "data": {
      "image/png": "[encoded data removed]",
      "text/plain": [
       "<Figure size 1000x400 with 1 Axes>"
      ]
     },
     "metadata": {},
     "output_type": "display_data"
    }
   ],
   "source": [
    "ax = df_monthly.plot(x=\"month\", y=\"trips\", kind=\"line\", figsize=(10,4), title=\"Monthly Trips\")\n",
    "df_monthly.plot(x=\"month\", y=\"ma3_trips\", kind=\"line\", ax=ax)\n",
    "plt.tight_layout(); plt.show()"
   ]
  },
  {
   "cell_type": "markdown",
   "id": "25d26671-d670-4d8d-95f7-85a89a19e5a6",
   "metadata": {},
   "source": [
    "Ridership increased sharply after the July 2011 launch, peaking near 130 K monthly trips by mid-2013. The 3-month moving average smooths short-term spikes, confirming a steady upward trend with predictable winter dips."
   ]
  },
  {
   "cell_type": "code",
   "execution_count": 4,
   "id": "b9639248-f0e9-491e-84ad-27a37e245a93",
   "metadata": {
    "scrolled": true
   },
   "outputs": [
    {
     "data": {
      "image/png": "[encoded data removed]",
      "text/plain": [
       "<Figure size 1000x300 with 1 Axes>"
      ]
     },
     "metadata": {},
     "output_type": "display_data"
    }
   ],
   "source": [
    "df_monthly.plot(x=\"month\", y=\"mom_pct\", kind=\"line\", figsize=(10,3), title=\"MoM % Change in Trips\")\n",
    "plt.axhline(0, linewidth=1)\n",
    "plt.tight_layout(); plt.show()"
   ]
  },
  {
   "cell_type": "markdown",
   "id": "21b5eed1-36fc-43d6-bc37-52be45ca2b85",
   "metadata": {},
   "source": [
    "Month-over-month growth initially spiked (+1240%) during rollout, then stabilized within ±10–20%, indicating a maturing, seasonally influenced system with sustained long-term usage."
   ]
  },
  {
   "cell_type": "markdown",
   "id": "a670cf33-de8d-4cb6-a134-98f31d3b704b",
   "metadata": {},
   "source": [
    "### 1.3 Interpretation"
   ]
  },
  {
   "cell_type": "markdown",
   "id": "b44a789b-c3cc-4db7-9004-d08d6c0862aa",
   "metadata": {},
   "source": [
    "Ridership showed **exponential early growth** after the July 2011 launch, with trips increasing by roughly **+1240% the following month.** After stabilization, usage settled into a **consistent seasonal pattern,** peaking during warmer months and dipping in winter. The 3-month moving average confirms a steady long-term upward trend, smoothing short-term fluctuations. Month-over-month changes later remained within ±15%, reflecting a **maturing system with stable, recurring usage cycles.**"
   ]
  },
  {
   "cell_type": "markdown",
   "id": "6d154bf1-4913-4cf6-9c33-990f62d325a5",
   "metadata": {},
   "source": [
    "## 2. Peak Usage Hours\n",
    "Analyze hourly and weekday patterns to identify commuter peaks and operational hotspots."
   ]
  },
  {
   "cell_type": "markdown",
   "id": "e8b9c402-2f30-4c58-b515-27cda53e087a",
   "metadata": {},
   "source": [
    "### 2.1 Query: Trips by Weekday and Hour"
   ]
  },
  {
   "cell_type": "code",
   "execution_count": 6,
   "id": "54a4096b-4047-485a-8546-4ecdc74d822d",
   "metadata": {},
   "outputs": [
    {
     "data": {
      "text/html": [
       "<div>\n",
       "<style scoped>\n",
       "    .dataframe tbody tr th:only-of-type {\n",
       "        vertical-align: middle;\n",
       "    }\n",
       "\n",
       "    .dataframe tbody tr th {\n",
       "        vertical-align: top;\n",
       "    }\n",
       "\n",
       "    .dataframe thead th {\n",
       "        text-align: right;\n",
       "    }\n",
       "</style>\n",
       "<table border=\"1\" class=\"dataframe\">\n",
       "  <thead>\n",
       "    <tr style=\"text-align: right;\">\n",
       "      <th></th>\n",
       "      <th>wkday_num</th>\n",
       "      <th>hr</th>\n",
       "      <th>trips</th>\n",
       "    </tr>\n",
       "  </thead>\n",
       "  <tbody>\n",
       "    <tr>\n",
       "      <th>0</th>\n",
       "      <td>0</td>\n",
       "      <td>0</td>\n",
       "      <td>4344</td>\n",
       "    </tr>\n",
       "    <tr>\n",
       "      <th>1</th>\n",
       "      <td>0</td>\n",
       "      <td>1</td>\n",
       "      <td>4730</td>\n",
       "    </tr>\n",
       "    <tr>\n",
       "      <th>2</th>\n",
       "      <td>0</td>\n",
       "      <td>2</td>\n",
       "      <td>4436</td>\n",
       "    </tr>\n",
       "    <tr>\n",
       "      <th>3</th>\n",
       "      <td>0</td>\n",
       "      <td>3</td>\n",
       "      <td>855</td>\n",
       "    </tr>\n",
       "    <tr>\n",
       "      <th>4</th>\n",
       "      <td>0</td>\n",
       "      <td>4</td>\n",
       "      <td>401</td>\n",
       "    </tr>\n",
       "  </tbody>\n",
       "</table>\n",
       "</div>"
      ],
      "text/plain": [
       "   wkday_num  hr  trips\n",
       "0          0   0   4344\n",
       "1          0   1   4730\n",
       "2          0   2   4436\n",
       "3          0   3    855\n",
       "4          0   4    401"
      ]
     },
     "execution_count": 6,
     "metadata": {},
     "output_type": "execute_result"
    }
   ],
   "source": [
    "sql_wk_hr =  f\"\"\"\n",
    "SELECT  \n",
    "    CAST(strftime('%w', {START_COL}) AS INTEGER) AS wkday_num,   -- 0=Sun ... 6=Sat\n",
    "    CAST(strftime('%H', {START_COL}) AS INTEGER) AS hr,   -- 0...23\n",
    "    COUNT(*) AS trips\n",
    "FROM trips\n",
    "WHERE {START_COL} IS NOT NULL\n",
    "GROUP BY wkday_num, hr\n",
    "ORDER BY wkday_num, hr;\n",
    "\"\"\"\n",
    "\n",
    "df_wk_hr = run_sql(sql_wk_hr)\n",
    "df_wk_hr.head()"
   ]
  },
  {
   "cell_type": "code",
   "execution_count": 7,
   "id": "3b0b0d02-f6c8-4712-82db-002f99e1cefd",
   "metadata": {},
   "outputs": [],
   "source": [
    "%%capture\n",
    "\n",
    "# Label week days and pivot to matrix\n",
    "\n",
    "wk_map = {0:\"Sun\", 1:\"Mon\", 2:\"Tue\", 3:\"Wed\", 4:\"Thu\", 5:\"Fri\", 6:\"Sat\"}\n",
    "df_wk_hr[\"weekday\"] = df_wk_hr[\"wkday_num\"].map(wk_map)\n",
    "\n",
    "pivot_wk_hr = df_wk_hr.pivot(index=\"weekday\", columns=\"hr\", values=\"trips\")\n",
    "\n",
    "weekday_order = [\"Mon\",\"Tue\",\"Wed\",\"Thu\",\"Fri\",\"Sat\",\"Sun\"]\n",
    "pivot_wk_hr = pivot_wk_hr.reindex(weekday_order)\n",
    "\n",
    "pivot_wk_hr.iloc[:5, :8]"
   ]
  },
  {
   "cell_type": "markdown",
   "id": "8db659af-ca0b-49a4-a689-22bca79c01ba",
   "metadata": {},
   "source": [
    "### 2.2 Visualization: Heatmap "
   ]
  },
  {
   "cell_type": "code",
   "execution_count": 8,
   "id": "a61a68c9-f11c-4619-baee-16cc56d70212",
   "metadata": {},
   "outputs": [
    {
     "data": {
      "image/png": "[encoded data removed]",
      "text/plain": [
       "<Figure size 1200x400 with 2 Axes>"
      ]
     },
     "metadata": {},
     "output_type": "display_data"
    }
   ],
   "source": [
    "import numpy as np\n",
    "fig, ax = plt.subplots(figsize=(12,4))\n",
    "im = ax.imshow(pivot_wk_hr.values, aspect=\"auto\")  \n",
    "ax.set_title(\"Heatmap — Trips by Weekday × Hour\")\n",
    "ax.set_xlabel(\"Hour of Day\")\n",
    "ax.set_ylabel(\"Weekday\")\n",
    "\n",
    "ax.set_xticks(range(24))\n",
    "ax.set_xticklabels(range(24))\n",
    "ax.set_yticks(range(len(pivot_wk_hr.index)))\n",
    "ax.set_yticklabels(pivot_wk_hr.index)\n",
    "\n",
    "fig.colorbar(im, ax=ax, fraction=0.046, pad=0.04, label=\"Trips\")\n",
    "\n",
    "plt.tight_layout(); plt.show()"
   ]
  },
  {
   "cell_type": "markdown",
   "id": "46cfd15a-2a6f-4321-ad5c-f3007951f8a1",
   "metadata": {},
   "source": [
    "Weekdays show distinct commuter peaks at ~8:00 and ~17:00, while weekends shift toward late-morning to early-afternoon leisure riding."
   ]
  },
  {
   "cell_type": "markdown",
   "id": "2ab285e1-0d3e-4b27-b818-30da945657a9",
   "metadata": {},
   "source": [
    "### 2.3 Top Hour per Weekday"
   ]
  },
  {
   "cell_type": "code",
   "execution_count": 9,
   "id": "7a1bac29-97ba-4339-bce6-64d4069bf2e3",
   "metadata": {},
   "outputs": [
    {
     "data": {
      "text/html": [
       "<div>\n",
       "<style scoped>\n",
       "    .dataframe tbody tr th:only-of-type {\n",
       "        vertical-align: middle;\n",
       "    }\n",
       "\n",
       "    .dataframe tbody tr th {\n",
       "        vertical-align: top;\n",
       "    }\n",
       "\n",
       "    .dataframe thead th {\n",
       "        text-align: right;\n",
       "    }\n",
       "</style>\n",
       "<table border=\"1\" class=\"dataframe\">\n",
       "  <thead>\n",
       "    <tr style=\"text-align: right;\">\n",
       "      <th></th>\n",
       "      <th>wkday_num</th>\n",
       "      <th>hr</th>\n",
       "      <th>trips</th>\n",
       "    </tr>\n",
       "  </thead>\n",
       "  <tbody>\n",
       "    <tr>\n",
       "      <th>0</th>\n",
       "      <td>0</td>\n",
       "      <td>14</td>\n",
       "      <td>17888</td>\n",
       "    </tr>\n",
       "    <tr>\n",
       "      <th>1</th>\n",
       "      <td>1</td>\n",
       "      <td>17</td>\n",
       "      <td>29733</td>\n",
       "    </tr>\n",
       "    <tr>\n",
       "      <th>2</th>\n",
       "      <td>2</td>\n",
       "      <td>17</td>\n",
       "      <td>29693</td>\n",
       "    </tr>\n",
       "    <tr>\n",
       "      <th>3</th>\n",
       "      <td>3</td>\n",
       "      <td>17</td>\n",
       "      <td>29582</td>\n",
       "    </tr>\n",
       "    <tr>\n",
       "      <th>4</th>\n",
       "      <td>4</td>\n",
       "      <td>17</td>\n",
       "      <td>28798</td>\n",
       "    </tr>\n",
       "    <tr>\n",
       "      <th>5</th>\n",
       "      <td>5</td>\n",
       "      <td>17</td>\n",
       "      <td>25374</td>\n",
       "    </tr>\n",
       "    <tr>\n",
       "      <th>6</th>\n",
       "      <td>6</td>\n",
       "      <td>15</td>\n",
       "      <td>19688</td>\n",
       "    </tr>\n",
       "  </tbody>\n",
       "</table>\n",
       "</div>"
      ],
      "text/plain": [
       "   wkday_num  hr  trips\n",
       "0          0  14  17888\n",
       "1          1  17  29733\n",
       "2          2  17  29693\n",
       "3          3  17  29582\n",
       "4          4  17  28798\n",
       "5          5  17  25374\n",
       "6          6  15  19688"
      ]
     },
     "execution_count": 9,
     "metadata": {},
     "output_type": "execute_result"
    }
   ],
   "source": [
    "sql_top_hour_by_wk = f\"\"\"\n",
    "WITH by_wk_hr AS (\n",
    "   SELECT \n",
    "       CAST(strftime('%w', {START_COL}) AS INTEGER) AS wkday_num,\n",
    "    CAST(strftime('%H', {START_COL}) AS INTEGER) AS hr,\n",
    "    COUNT(*) AS trips\n",
    "FROM trips\n",
    "WHERE {START_COL} IS NOT NULL \n",
    "GROUP BY wkday_num, hr\n",
    "),\n",
    "ranked AS (\n",
    "    SELECT *, \n",
    "            RANK() OVER (PARTITION BY wkday_num ORDER BY trips DESC) AS rnk\n",
    "    FROM by_wk_hr\n",
    ")\n",
    "SELECT wkday_num, hr, trips\n",
    "FROM ranked\n",
    "WHERE rnk = 1\n",
    "ORDER BY wkday_num;\n",
    "\"\"\"\n",
    "run_sql(sql_top_hour_by_wk)"
   ]
  },
  {
   "cell_type": "markdown",
   "id": "3d9bd1b5-cbab-4beb-aed9-9e72b510ebaa",
   "metadata": {},
   "source": [
    "The 17:00 hour is consistently the busiest on weekdays, confirming strong post-work commute demand; a secondary peak appears near 08:00. On weekends, activity shifts to 14:00–15:00, reflecting recreational use rather than commuting."
   ]
  },
  {
   "cell_type": "markdown",
   "id": "4575a365-b05f-40b3-830a-71d4f4ef6d75",
   "metadata": {},
   "source": [
    "### 2.3 Interpretation"
   ]
  },
  {
   "cell_type": "markdown",
   "id": "5504b822-0119-49f2-af15-7cb48eb19582",
   "metadata": {},
   "source": [
    "Weekday ridership shows clear **morning and evening commute peaks,** with the busiest hour near **5 PM** and a smaller rise around **8 AM,** reflecting standard commuter behavior.\n",
    "\n",
    "On weekends, activity shifts toward **midday (13:00–15:00),** indicating more **recreational or social trips.**\n",
    "\n",
    "Overall, weekday demand is **bimodal,** while weekend demand is **single-peaked,** suggesting resource allocation should emphasize bike availability before **8 AM** and around **5 PM** on weekdays, and balanced distribution late mornings on weekends."
   ]
  },
  {
   "cell_type": "markdown",
   "id": "93ceee48-f8d3-495a-9734-85ccdec2c32b",
   "metadata": {},
   "source": [
    "## 3. Seasonal Patterns\n",
    "Analyze how average trip duration fluctuates by month."
   ]
  },
  {
   "cell_type": "markdown",
   "id": "984691f0-74e6-4bdf-8e02-64f2725b359d",
   "metadata": {},
   "source": [
    "### 3.1 Query: Average Trip Duration by Month"
   ]
  },
  {
   "cell_type": "code",
   "execution_count": 11,
   "id": "be3b10e3-9ab7-4eae-8564-f2d97450303c",
   "metadata": {},
   "outputs": [
    {
     "data": {
      "text/html": [
       "<div>\n",
       "<style scoped>\n",
       "    .dataframe tbody tr th:only-of-type {\n",
       "        vertical-align: middle;\n",
       "    }\n",
       "\n",
       "    .dataframe tbody tr th {\n",
       "        vertical-align: top;\n",
       "    }\n",
       "\n",
       "    .dataframe thead th {\n",
       "        text-align: right;\n",
       "    }\n",
       "</style>\n",
       "<table border=\"1\" class=\"dataframe\">\n",
       "  <thead>\n",
       "    <tr style=\"text-align: right;\">\n",
       "      <th></th>\n",
       "      <th>month</th>\n",
       "      <th>avg_duration</th>\n",
       "    </tr>\n",
       "  </thead>\n",
       "  <tbody>\n",
       "    <tr>\n",
       "      <th>0</th>\n",
       "      <td>2011-07-01</td>\n",
       "      <td>1941.64</td>\n",
       "    </tr>\n",
       "    <tr>\n",
       "      <th>1</th>\n",
       "      <td>2011-08-01</td>\n",
       "      <td>1457.26</td>\n",
       "    </tr>\n",
       "    <tr>\n",
       "      <th>2</th>\n",
       "      <td>2011-09-01</td>\n",
       "      <td>1273.16</td>\n",
       "    </tr>\n",
       "    <tr>\n",
       "      <th>3</th>\n",
       "      <td>2011-10-01</td>\n",
       "      <td>1147.90</td>\n",
       "    </tr>\n",
       "    <tr>\n",
       "      <th>4</th>\n",
       "      <td>2011-11-01</td>\n",
       "      <td>894.41</td>\n",
       "    </tr>\n",
       "    <tr>\n",
       "      <th>5</th>\n",
       "      <td>2012-03-01</td>\n",
       "      <td>1026.15</td>\n",
       "    </tr>\n",
       "    <tr>\n",
       "      <th>6</th>\n",
       "      <td>2012-04-01</td>\n",
       "      <td>957.33</td>\n",
       "    </tr>\n",
       "    <tr>\n",
       "      <th>7</th>\n",
       "      <td>2012-05-01</td>\n",
       "      <td>997.92</td>\n",
       "    </tr>\n",
       "    <tr>\n",
       "      <th>8</th>\n",
       "      <td>2012-06-01</td>\n",
       "      <td>940.83</td>\n",
       "    </tr>\n",
       "    <tr>\n",
       "      <th>9</th>\n",
       "      <td>2012-07-01</td>\n",
       "      <td>1008.28</td>\n",
       "    </tr>\n",
       "  </tbody>\n",
       "</table>\n",
       "</div>"
      ],
      "text/plain": [
       "        month  avg_duration\n",
       "0  2011-07-01       1941.64\n",
       "1  2011-08-01       1457.26\n",
       "2  2011-09-01       1273.16\n",
       "3  2011-10-01       1147.90\n",
       "4  2011-11-01        894.41\n",
       "5  2012-03-01       1026.15\n",
       "6  2012-04-01        957.33\n",
       "7  2012-05-01        997.92\n",
       "8  2012-06-01        940.83\n",
       "9  2012-07-01       1008.28"
      ]
     },
     "execution_count": 11,
     "metadata": {},
     "output_type": "execute_result"
    }
   ],
   "source": [
    "sql_seasonal = \"\"\"\n",
    "WITH monthly_duration AS (\n",
    "  SELECT\n",
    "    date(strftime('%Y-%m-01', start_date)) AS month,    \n",
    "    AVG(duration) AS avg_duration                       \n",
    "  FROM trips\n",
    "  WHERE start_date IS NOT NULL AND duration > 0         \n",
    "  GROUP BY 1                                            \n",
    ")\n",
    "SELECT month, ROUND(avg_duration, 2) AS avg_duration\n",
    "FROM monthly_duration\n",
    "ORDER BY month;\n",
    "\"\"\"\n",
    "\n",
    "df_seasonal = run_sql(sql_seasonal)\n",
    "df_seasonal.head(10)"
   ]
  },
  {
   "cell_type": "markdown",
   "id": "dbd6eb30-fc19-442c-a82a-222a0a7074e2",
   "metadata": {},
   "source": [
    "### 3.2 Visualization: Average Trip Duration"
   ]
  },
  {
   "cell_type": "code",
   "execution_count": 12,
   "id": "abc9a630-c361-4e9b-8071-2f1575fe284c",
   "metadata": {},
   "outputs": [
    {
     "data": {
      "image/png": "[encoded data removed]",
      "text/plain": [
       "<Figure size 1000x400 with 1 Axes>"
      ]
     },
     "metadata": {},
     "output_type": "display_data"
    }
   ],
   "source": [
    "df_seasonal[\"month\"] = pd.to_datetime(df_seasonal[\"month\"])\n",
    "\n",
    "# Line Plot\n",
    "import matplotlib.pyplot as plt\n",
    "plt.figure(figsize=(10,4))\n",
    "plt.plot(df_seasonal[\"month\"], df_seasonal[\"avg_duration\"], marker=\"o\")\n",
    "plt.title(\"Average Trip Duration by Month\")\n",
    "plt.xlabel(\"Month\"); plt.ylabel(\"Average Duration (minutes)\")\n",
    "plt.tight_layout(); plt.show()"
   ]
  },
  {
   "cell_type": "markdown",
   "id": "6de63bef-d9bf-4ce2-ac81-be351ec026e2",
   "metadata": {},
   "source": [
    "Average trip duration drops sharply after launch, then stabilizes at ~10–20 minutes with longer rides in warmer months and shorter rides in winter."
   ]
  },
  {
   "cell_type": "markdown",
   "id": "a64ef78e-a41b-46cc-be05-f051dc4b9e38",
   "metadata": {},
   "source": [
    "### 3.3 Interpretation"
   ]
  },
  {
   "cell_type": "markdown",
   "id": "97b61b37-469e-4b3c-893f-64fe88d28bb1",
   "metadata": {},
   "source": [
    "Average trip duration shows a clear **seasonal pattern.** After unusually long rides during the 2011 launch period (likely data anomalies), durations stabilize around **10–20 minutes.** Trips are **slightly longer April–September** and **shorter November–February,** consistent with leisure riding in summer and practical commuting in winter, aligning with Section 1’s seasonality."
   ]
  },
  {
   "cell_type": "markdown",
   "id": "16b17d09-4cab-40b8-a536-9b1a02d9a94b",
   "metadata": {},
   "source": [
    "## 4. Top Origin & Destination Stations\n",
    "Identify the most popular start and end stations in the rideshare network."
   ]
  },
  {
   "cell_type": "markdown",
   "id": "7e4e9b31-1625-4f5c-a5c8-a893b0b71ed8",
   "metadata": {},
   "source": [
    "### 4.1 Query: Top 10 Start and End Stations"
   ]
  },
  {
   "cell_type": "code",
   "execution_count": 14,
   "id": "fdd4fdef-c51b-4508-9f1b-1022fa13f540",
   "metadata": {},
   "outputs": [
    {
     "data": {
      "text/html": [
       "<div>\n",
       "<style scoped>\n",
       "    .dataframe tbody tr th:only-of-type {\n",
       "        vertical-align: middle;\n",
       "    }\n",
       "\n",
       "    .dataframe tbody tr th {\n",
       "        vertical-align: top;\n",
       "    }\n",
       "\n",
       "    .dataframe thead th {\n",
       "        text-align: right;\n",
       "    }\n",
       "</style>\n",
       "<table border=\"1\" class=\"dataframe\">\n",
       "  <thead>\n",
       "    <tr style=\"text-align: right;\">\n",
       "      <th></th>\n",
       "      <th>station_name</th>\n",
       "      <th>start_trips</th>\n",
       "      <th>end_trips</th>\n",
       "      <th>start_rank</th>\n",
       "      <th>end_rank</th>\n",
       "    </tr>\n",
       "  </thead>\n",
       "  <tbody>\n",
       "    <tr>\n",
       "      <th>0</th>\n",
       "      <td>South Station - 700 Atlantic Ave.</td>\n",
       "      <td>56123</td>\n",
       "      <td>56003</td>\n",
       "      <td>1</td>\n",
       "      <td>1</td>\n",
       "    </tr>\n",
       "    <tr>\n",
       "      <th>1</th>\n",
       "      <td>Boston Public Library - 700 Boylston St.</td>\n",
       "      <td>41994</td>\n",
       "      <td>42870</td>\n",
       "      <td>2</td>\n",
       "      <td>2</td>\n",
       "    </tr>\n",
       "    <tr>\n",
       "      <th>2</th>\n",
       "      <td>Charles Circle - Charles St. at Cambridge St.</td>\n",
       "      <td>35984</td>\n",
       "      <td>35196</td>\n",
       "      <td>3</td>\n",
       "      <td>3</td>\n",
       "    </tr>\n",
       "    <tr>\n",
       "      <th>3</th>\n",
       "      <td>Beacon St / Mass Ave</td>\n",
       "      <td>35275</td>\n",
       "      <td>33186</td>\n",
       "      <td>4</td>\n",
       "      <td>6</td>\n",
       "    </tr>\n",
       "    <tr>\n",
       "      <th>4</th>\n",
       "      <td>MIT at Mass Ave / Amherst St</td>\n",
       "      <td>33644</td>\n",
       "      <td>34557</td>\n",
       "      <td>5</td>\n",
       "      <td>4</td>\n",
       "    </tr>\n",
       "    <tr>\n",
       "      <th>5</th>\n",
       "      <td>Back Bay / South End Station</td>\n",
       "      <td>32677</td>\n",
       "      <td>29503</td>\n",
       "      <td>6</td>\n",
       "      <td>8</td>\n",
       "    </tr>\n",
       "    <tr>\n",
       "      <th>6</th>\n",
       "      <td>Boylston St. at Arlington St.</td>\n",
       "      <td>32410</td>\n",
       "      <td>34524</td>\n",
       "      <td>7</td>\n",
       "      <td>5</td>\n",
       "    </tr>\n",
       "    <tr>\n",
       "      <th>7</th>\n",
       "      <td>Kenmore Sq / Comm Ave</td>\n",
       "      <td>30835</td>\n",
       "      <td>32036</td>\n",
       "      <td>8</td>\n",
       "      <td>7</td>\n",
       "    </tr>\n",
       "    <tr>\n",
       "      <th>8</th>\n",
       "      <td>The Esplanade - Beacon St. at Arlington St.</td>\n",
       "      <td>28119</td>\n",
       "      <td>26180</td>\n",
       "      <td>9</td>\n",
       "      <td>13</td>\n",
       "    </tr>\n",
       "    <tr>\n",
       "      <th>9</th>\n",
       "      <td>Newbury St / Hereford St</td>\n",
       "      <td>26733</td>\n",
       "      <td>26982</td>\n",
       "      <td>10</td>\n",
       "      <td>10</td>\n",
       "    </tr>\n",
       "  </tbody>\n",
       "</table>\n",
       "</div>"
      ],
      "text/plain": [
       "                                    station_name  start_trips  end_trips  \\\n",
       "0              South Station - 700 Atlantic Ave.        56123      56003   \n",
       "1       Boston Public Library - 700 Boylston St.        41994      42870   \n",
       "2  Charles Circle - Charles St. at Cambridge St.        35984      35196   \n",
       "3                           Beacon St / Mass Ave        35275      33186   \n",
       "4                   MIT at Mass Ave / Amherst St        33644      34557   \n",
       "5                   Back Bay / South End Station        32677      29503   \n",
       "6                  Boylston St. at Arlington St.        32410      34524   \n",
       "7                          Kenmore Sq / Comm Ave        30835      32036   \n",
       "8    The Esplanade - Beacon St. at Arlington St.        28119      26180   \n",
       "9                       Newbury St / Hereford St        26733      26982   \n",
       "\n",
       "   start_rank  end_rank  \n",
       "0           1         1  \n",
       "1           2         2  \n",
       "2           3         3  \n",
       "3           4         6  \n",
       "4           5         4  \n",
       "5           6         8  \n",
       "6           7         5  \n",
       "7           8         7  \n",
       "8           9        13  \n",
       "9          10        10  "
      ]
     },
     "execution_count": 14,
     "metadata": {},
     "output_type": "execute_result"
    }
   ],
   "source": [
    "sql_top_stations = \"\"\"\n",
    "WITH start_counts AS (\n",
    "  SELECT\n",
    "    s.station AS station_name,\n",
    "    COUNT(*) AS start_trips,\n",
    "    RANK() OVER (ORDER BY COUNT(*) DESC) AS start_rank\n",
    "  FROM trips t\n",
    "  JOIN stations s ON t.start_station = s.id\n",
    "  GROUP BY s.station\n",
    "),\n",
    "end_counts AS (\n",
    "  SELECT\n",
    "    s.station AS station_name,\n",
    "    COUNT(*) AS end_trips,\n",
    "    RANK() OVER (ORDER BY COUNT(*) DESC) AS end_rank\n",
    "  FROM trips t\n",
    "  JOIN stations s ON t.end_station = s.id\n",
    "  GROUP BY s.station\n",
    ")\n",
    "-- emulate FULL OUTER JOIN with two LEFT JOINs and UNION\n",
    "SELECT\n",
    "  sc.station_name,\n",
    "  sc.start_trips,\n",
    "  IFNULL(ec.end_trips, 0) AS end_trips,\n",
    "  sc.start_rank,\n",
    "  ec.end_rank\n",
    "FROM start_counts sc\n",
    "LEFT JOIN end_counts ec USING (station_name)\n",
    "WHERE sc.start_rank <= 10\n",
    "\n",
    "UNION\n",
    "\n",
    "SELECT\n",
    "  ec.station_name,\n",
    "  IFNULL(sc.start_trips, 0) AS start_trips,\n",
    "  ec.end_trips,\n",
    "  sc.start_rank,\n",
    "  ec.end_rank\n",
    "FROM end_counts ec\n",
    "LEFT JOIN start_counts sc USING (station_name)\n",
    "WHERE ec.end_rank <= 10\n",
    "\n",
    "ORDER BY start_rank, end_rank, station_name;\n",
    "\"\"\"\n",
    "df_top_stations = run_sql(sql_top_stations)\n",
    "df_top_stations.head(10)"
   ]
  },
  {
   "cell_type": "markdown",
   "id": "49aa8094-7167-414e-b35a-14d7f4c6840d",
   "metadata": {},
   "source": [
    "### 4.2 Visualization: Bar Chart"
   ]
  },
  {
   "cell_type": "code",
   "execution_count": 15,
   "id": "73c4f3e0-ea6a-4a1a-9552-a458eaa0b1a7",
   "metadata": {},
   "outputs": [
    {
     "data": {
      "image/png": "[encoded data removed]",
      "text/plain": [
       "<Figure size 1000x500 with 1 Axes>"
      ]
     },
     "metadata": {},
     "output_type": "display_data"
    }
   ],
   "source": [
    "df_start = df_top_stations.nlargest(10, \"start_trips\")[[\"station_name\", \"start_trips\"]]\n",
    "df_end   = df_top_stations.nlargest(10, \"end_trips\")[[\"station_name\", \"end_trips\"]]\n",
    "\n",
    "df_merge = pd.merge(df_start, df_end, on=\"station_name\", how=\"outer\").fillna(0)\n",
    "df_merge = df_merge.sort_values(by=\"start_trips\", ascending=False)\n",
    "\n",
    "plt.figure(figsize=(10,5))\n",
    "width = 0.35\n",
    "x = range(len(df_merge))\n",
    "\n",
    "plt.bar(x, df_merge[\"start_trips\"], width=width, label=\"Trip Starts\")\n",
    "plt.bar([i + width for i in x], df_merge[\"end_trips\"], width=width, label=\"Trip Ends\")\n",
    "\n",
    "plt.xticks([i + width/2 for i in x], df_merge[\"station_name\"], rotation=45, ha=\"right\")\n",
    "plt.title(\"Top 10 Stations by Trip Starts and Ends\")\n",
    "plt.xlabel(\"Station\"); plt.ylabel(\"Number of Trips\")\n",
    "plt.legend()\n",
    "plt.tight_layout()\n",
    "plt.show()"
   ]
  },
  {
   "cell_type": "markdown",
   "id": "6fb1d0ae-07f4-481c-9c10-0b37ef5e19d9",
   "metadata": {},
   "source": [
    "South Station and Boston Public Library record the highest trip starts and ends, revealing their roles as key downtown transit hubs."
   ]
  },
  {
   "cell_type": "markdown",
   "id": "81851b43-a278-4d59-b100-2be122b69e2d",
   "metadata": {},
   "source": [
    "### 4.3 Interpretation"
   ]
  },
  {
   "cell_type": "markdown",
   "id": "e5d1940e-f5dd-4a2b-b756-f7dd5991cd7a",
   "metadata": {},
   "source": [
    "High overlap between top start and end stations shows **balanced, two-way demand** concentrated in **busy downtown hubs.** These locations likely support **commuter transfers** between bikes and public transit. Stations with fewer trip ends may need **periodic rebalancing** to maintain bike availability."
   ]
  },
  {
   "cell_type": "markdown",
   "id": "9f85578c-1761-40b1-99af-7996e705f6db",
   "metadata": {},
   "source": [
    "## 5. Station Flow Imbalance\n",
    "Explore the difference between trip starts and ends at each station"
   ]
  },
  {
   "cell_type": "markdown",
   "id": "bc309c59-3f25-4b03-9a3f-3600e6ecd268",
   "metadata": {},
   "source": [
    "### 5.1 Query: Starts, Ends, and Net Flow"
   ]
  },
  {
   "cell_type": "code",
   "execution_count": 17,
   "id": "29592602-a6e4-4f40-99d6-4e633b83ca12",
   "metadata": {},
   "outputs": [
    {
     "data": {
      "text/html": [
       "<div>\n",
       "<style scoped>\n",
       "    .dataframe tbody tr th:only-of-type {\n",
       "        vertical-align: middle;\n",
       "    }\n",
       "\n",
       "    .dataframe tbody tr th {\n",
       "        vertical-align: top;\n",
       "    }\n",
       "\n",
       "    .dataframe thead th {\n",
       "        text-align: right;\n",
       "    }\n",
       "</style>\n",
       "<table border=\"1\" class=\"dataframe\">\n",
       "  <thead>\n",
       "    <tr style=\"text-align: right;\">\n",
       "      <th></th>\n",
       "      <th>station_name</th>\n",
       "      <th>starts</th>\n",
       "      <th>ends</th>\n",
       "      <th>net_flow</th>\n",
       "      <th>total_activity</th>\n",
       "    </tr>\n",
       "  </thead>\n",
       "  <tbody>\n",
       "    <tr>\n",
       "      <th>0</th>\n",
       "      <td>Back Bay / South End Station</td>\n",
       "      <td>32677</td>\n",
       "      <td>29503</td>\n",
       "      <td>3174</td>\n",
       "      <td>62180</td>\n",
       "    </tr>\n",
       "    <tr>\n",
       "      <th>1</th>\n",
       "      <td>Harvard Square at Mass Ave/ Dunster</td>\n",
       "      <td>23985</td>\n",
       "      <td>26642</td>\n",
       "      <td>-2657</td>\n",
       "      <td>50627</td>\n",
       "    </tr>\n",
       "    <tr>\n",
       "      <th>2</th>\n",
       "      <td>Mayor Thomas M. Menino - Government Center</td>\n",
       "      <td>23130</td>\n",
       "      <td>20567</td>\n",
       "      <td>2563</td>\n",
       "      <td>43697</td>\n",
       "    </tr>\n",
       "    <tr>\n",
       "      <th>3</th>\n",
       "      <td>Boylston St. at Arlington St.</td>\n",
       "      <td>32410</td>\n",
       "      <td>34524</td>\n",
       "      <td>-2114</td>\n",
       "      <td>66934</td>\n",
       "    </tr>\n",
       "    <tr>\n",
       "      <th>4</th>\n",
       "      <td>Beacon St / Mass Ave</td>\n",
       "      <td>35275</td>\n",
       "      <td>33186</td>\n",
       "      <td>2089</td>\n",
       "      <td>68461</td>\n",
       "    </tr>\n",
       "    <tr>\n",
       "      <th>5</th>\n",
       "      <td>Tremont St / W Newton St</td>\n",
       "      <td>19340</td>\n",
       "      <td>17341</td>\n",
       "      <td>1999</td>\n",
       "      <td>36681</td>\n",
       "    </tr>\n",
       "    <tr>\n",
       "      <th>6</th>\n",
       "      <td>The Esplanade - Beacon St. at Arlington St.</td>\n",
       "      <td>28119</td>\n",
       "      <td>26180</td>\n",
       "      <td>1939</td>\n",
       "      <td>54299</td>\n",
       "    </tr>\n",
       "    <tr>\n",
       "      <th>7</th>\n",
       "      <td>TD Garden - Causeway at Portal Park #1</td>\n",
       "      <td>17327</td>\n",
       "      <td>19098</td>\n",
       "      <td>-1771</td>\n",
       "      <td>36425</td>\n",
       "    </tr>\n",
       "    <tr>\n",
       "      <th>8</th>\n",
       "      <td>Rowes Wharf - Atlantic Ave</td>\n",
       "      <td>25880</td>\n",
       "      <td>27596</td>\n",
       "      <td>-1716</td>\n",
       "      <td>53476</td>\n",
       "    </tr>\n",
       "    <tr>\n",
       "      <th>9</th>\n",
       "      <td>Aquarium Station - 200 Atlantic Ave.</td>\n",
       "      <td>24288</td>\n",
       "      <td>22666</td>\n",
       "      <td>1622</td>\n",
       "      <td>46954</td>\n",
       "    </tr>\n",
       "  </tbody>\n",
       "</table>\n",
       "</div>"
      ],
      "text/plain": [
       "                                  station_name  starts   ends  net_flow  \\\n",
       "0                 Back Bay / South End Station   32677  29503      3174   \n",
       "1          Harvard Square at Mass Ave/ Dunster   23985  26642     -2657   \n",
       "2   Mayor Thomas M. Menino - Government Center   23130  20567      2563   \n",
       "3                Boylston St. at Arlington St.   32410  34524     -2114   \n",
       "4                         Beacon St / Mass Ave   35275  33186      2089   \n",
       "5                     Tremont St / W Newton St   19340  17341      1999   \n",
       "6  The Esplanade - Beacon St. at Arlington St.   28119  26180      1939   \n",
       "7       TD Garden - Causeway at Portal Park #1   17327  19098     -1771   \n",
       "8                   Rowes Wharf - Atlantic Ave   25880  27596     -1716   \n",
       "9         Aquarium Station - 200 Atlantic Ave.   24288  22666      1622   \n",
       "\n",
       "   total_activity  \n",
       "0           62180  \n",
       "1           50627  \n",
       "2           43697  \n",
       "3           66934  \n",
       "4           68461  \n",
       "5           36681  \n",
       "6           54299  \n",
       "7           36425  \n",
       "8           53476  \n",
       "9           46954  "
      ]
     },
     "execution_count": 17,
     "metadata": {},
     "output_type": "execute_result"
    }
   ],
   "source": [
    "sql_flow = \"\"\"\n",
    "WITH start_counts AS (\n",
    "  SELECT s.station AS station_name, COUNT(*) AS starts\n",
    "  FROM trips t\n",
    "  JOIN stations s ON t.start_station = s.id\n",
    "  GROUP BY s.station\n",
    "),\n",
    "end_counts AS (\n",
    "  SELECT s.station AS station_name, COUNT(*) AS ends\n",
    "  FROM trips t\n",
    "  JOIN stations s ON t.end_station = s.id\n",
    "  GROUP BY s.station\n",
    "),\n",
    "flow AS (\n",
    "  -- part A: all rows from start_counts (LEFT JOIN to end_counts)\n",
    "  SELECT\n",
    "    sc.station_name,\n",
    "    sc.starts,\n",
    "    IFNULL(ec.ends, 0) AS ends,\n",
    "    sc.starts - IFNULL(ec.ends, 0) AS net_flow,\n",
    "    sc.starts + IFNULL(ec.ends, 0) AS total_activity\n",
    "  FROM start_counts sc\n",
    "  LEFT JOIN end_counts ec ON sc.station_name = ec.station_name\n",
    "\n",
    "  UNION ALL\n",
    "\n",
    "  -- part B: rows that exist ONLY in end_counts (not in start_counts)\n",
    "  SELECT\n",
    "    ec.station_name,\n",
    "    IFNULL(sc.starts, 0) AS starts,\n",
    "    ec.ends,\n",
    "    IFNULL(sc.starts, 0) - ec.ends AS net_flow,\n",
    "    IFNULL(sc.starts, 0) + ec.ends AS total_activity\n",
    "  FROM end_counts ec\n",
    "  LEFT JOIN start_counts sc ON sc.station_name = ec.station_name\n",
    "  WHERE sc.station_name IS NULL\n",
    ")\n",
    "SELECT *\n",
    "FROM flow\n",
    "ORDER BY ABS(net_flow) DESC, total_activity DESC;\n",
    "\"\"\"\n",
    "\n",
    "df_flow = run_sql(sql_flow)\n",
    "df_flow.head(10)"
   ]
  },
  {
   "cell_type": "markdown",
   "id": "e32b6601-e490-4c45-a325-67212adcfb76",
   "metadata": {},
   "source": [
    "### 5.2 Pick top imbalances (both directions) & preview"
   ]
  },
  {
   "cell_type": "code",
   "execution_count": 18,
   "id": "afd8a241-e217-4afd-86ff-d11d2a79e5f6",
   "metadata": {},
   "outputs": [
    {
     "data": {
      "text/html": [
       "<div>\n",
       "<style scoped>\n",
       "    .dataframe tbody tr th:only-of-type {\n",
       "        vertical-align: middle;\n",
       "    }\n",
       "\n",
       "    .dataframe tbody tr th {\n",
       "        vertical-align: top;\n",
       "    }\n",
       "\n",
       "    .dataframe thead th {\n",
       "        text-align: right;\n",
       "    }\n",
       "</style>\n",
       "<table border=\"1\" class=\"dataframe\">\n",
       "  <thead>\n",
       "    <tr style=\"text-align: right;\">\n",
       "      <th></th>\n",
       "      <th>station_name</th>\n",
       "      <th>starts</th>\n",
       "      <th>ends</th>\n",
       "      <th>net_flow</th>\n",
       "    </tr>\n",
       "  </thead>\n",
       "  <tbody>\n",
       "    <tr>\n",
       "      <th>0</th>\n",
       "      <td>Back Bay / South End Station</td>\n",
       "      <td>32677</td>\n",
       "      <td>29503</td>\n",
       "      <td>3174</td>\n",
       "    </tr>\n",
       "    <tr>\n",
       "      <th>2</th>\n",
       "      <td>Mayor Thomas M. Menino - Government Center</td>\n",
       "      <td>23130</td>\n",
       "      <td>20567</td>\n",
       "      <td>2563</td>\n",
       "    </tr>\n",
       "    <tr>\n",
       "      <th>4</th>\n",
       "      <td>Beacon St / Mass Ave</td>\n",
       "      <td>35275</td>\n",
       "      <td>33186</td>\n",
       "      <td>2089</td>\n",
       "    </tr>\n",
       "    <tr>\n",
       "      <th>5</th>\n",
       "      <td>Tremont St / W Newton St</td>\n",
       "      <td>19340</td>\n",
       "      <td>17341</td>\n",
       "      <td>1999</td>\n",
       "    </tr>\n",
       "    <tr>\n",
       "      <th>6</th>\n",
       "      <td>The Esplanade - Beacon St. at Arlington St.</td>\n",
       "      <td>28119</td>\n",
       "      <td>26180</td>\n",
       "      <td>1939</td>\n",
       "    </tr>\n",
       "    <tr>\n",
       "      <th>9</th>\n",
       "      <td>Aquarium Station - 200 Atlantic Ave.</td>\n",
       "      <td>24288</td>\n",
       "      <td>22666</td>\n",
       "      <td>1622</td>\n",
       "    </tr>\n",
       "    <tr>\n",
       "      <th>12</th>\n",
       "      <td>Columbus Ave. at Mass. Ave.</td>\n",
       "      <td>17829</td>\n",
       "      <td>16284</td>\n",
       "      <td>1545</td>\n",
       "    </tr>\n",
       "    <tr>\n",
       "      <th>13</th>\n",
       "      <td>Kendall T at Main St</td>\n",
       "      <td>17486</td>\n",
       "      <td>15972</td>\n",
       "      <td>1514</td>\n",
       "    </tr>\n",
       "    <tr>\n",
       "      <th>17</th>\n",
       "      <td>Lewis Wharf - Atlantic Ave.</td>\n",
       "      <td>25872</td>\n",
       "      <td>24587</td>\n",
       "      <td>1285</td>\n",
       "    </tr>\n",
       "    <tr>\n",
       "      <th>20</th>\n",
       "      <td>Cross St. at Hanover St.</td>\n",
       "      <td>26622</td>\n",
       "      <td>25496</td>\n",
       "      <td>1126</td>\n",
       "    </tr>\n",
       "  </tbody>\n",
       "</table>\n",
       "</div>"
      ],
      "text/plain": [
       "                                   station_name  starts   ends  net_flow\n",
       "0                  Back Bay / South End Station   32677  29503      3174\n",
       "2    Mayor Thomas M. Menino - Government Center   23130  20567      2563\n",
       "4                          Beacon St / Mass Ave   35275  33186      2089\n",
       "5                      Tremont St / W Newton St   19340  17341      1999\n",
       "6   The Esplanade - Beacon St. at Arlington St.   28119  26180      1939\n",
       "9          Aquarium Station - 200 Atlantic Ave.   24288  22666      1622\n",
       "12                  Columbus Ave. at Mass. Ave.   17829  16284      1545\n",
       "13                         Kendall T at Main St   17486  15972      1514\n",
       "17                  Lewis Wharf - Atlantic Ave.   25872  24587      1285\n",
       "20                     Cross St. at Hanover St.   26622  25496      1126"
      ]
     },
     "metadata": {},
     "output_type": "display_data"
    },
    {
     "data": {
      "text/html": [
       "<div>\n",
       "<style scoped>\n",
       "    .dataframe tbody tr th:only-of-type {\n",
       "        vertical-align: middle;\n",
       "    }\n",
       "\n",
       "    .dataframe tbody tr th {\n",
       "        vertical-align: top;\n",
       "    }\n",
       "\n",
       "    .dataframe thead th {\n",
       "        text-align: right;\n",
       "    }\n",
       "</style>\n",
       "<table border=\"1\" class=\"dataframe\">\n",
       "  <thead>\n",
       "    <tr style=\"text-align: right;\">\n",
       "      <th></th>\n",
       "      <th>station_name</th>\n",
       "      <th>starts</th>\n",
       "      <th>ends</th>\n",
       "      <th>net_flow</th>\n",
       "    </tr>\n",
       "  </thead>\n",
       "  <tbody>\n",
       "    <tr>\n",
       "      <th>1</th>\n",
       "      <td>Harvard Square at Mass Ave/ Dunster</td>\n",
       "      <td>23985</td>\n",
       "      <td>26642</td>\n",
       "      <td>-2657</td>\n",
       "    </tr>\n",
       "    <tr>\n",
       "      <th>3</th>\n",
       "      <td>Boylston St. at Arlington St.</td>\n",
       "      <td>32410</td>\n",
       "      <td>34524</td>\n",
       "      <td>-2114</td>\n",
       "    </tr>\n",
       "    <tr>\n",
       "      <th>7</th>\n",
       "      <td>TD Garden - Causeway at Portal Park #1</td>\n",
       "      <td>17327</td>\n",
       "      <td>19098</td>\n",
       "      <td>-1771</td>\n",
       "    </tr>\n",
       "    <tr>\n",
       "      <th>8</th>\n",
       "      <td>Rowes Wharf - Atlantic Ave</td>\n",
       "      <td>25880</td>\n",
       "      <td>27596</td>\n",
       "      <td>-1716</td>\n",
       "    </tr>\n",
       "    <tr>\n",
       "      <th>10</th>\n",
       "      <td>B.U. Central - 725 Comm. Ave.</td>\n",
       "      <td>16056</td>\n",
       "      <td>17646</td>\n",
       "      <td>-1590</td>\n",
       "    </tr>\n",
       "    <tr>\n",
       "      <th>11</th>\n",
       "      <td>Post Office Square</td>\n",
       "      <td>22886</td>\n",
       "      <td>24467</td>\n",
       "      <td>-1581</td>\n",
       "    </tr>\n",
       "    <tr>\n",
       "      <th>14</th>\n",
       "      <td>Congress / Sleeper</td>\n",
       "      <td>19026</td>\n",
       "      <td>20467</td>\n",
       "      <td>-1441</td>\n",
       "    </tr>\n",
       "    <tr>\n",
       "      <th>15</th>\n",
       "      <td>Davis Square</td>\n",
       "      <td>7959</td>\n",
       "      <td>9250</td>\n",
       "      <td>-1291</td>\n",
       "    </tr>\n",
       "    <tr>\n",
       "      <th>16</th>\n",
       "      <td>Agganis Arena - 925 Comm Ave.</td>\n",
       "      <td>17005</td>\n",
       "      <td>18292</td>\n",
       "      <td>-1287</td>\n",
       "    </tr>\n",
       "    <tr>\n",
       "      <th>18</th>\n",
       "      <td>Harvard Kennedy School at Bennett St / Eliot St</td>\n",
       "      <td>10194</td>\n",
       "      <td>11400</td>\n",
       "      <td>-1206</td>\n",
       "    </tr>\n",
       "  </tbody>\n",
       "</table>\n",
       "</div>"
      ],
      "text/plain": [
       "                                       station_name  starts   ends  net_flow\n",
       "1               Harvard Square at Mass Ave/ Dunster   23985  26642     -2657\n",
       "3                     Boylston St. at Arlington St.   32410  34524     -2114\n",
       "7            TD Garden - Causeway at Portal Park #1   17327  19098     -1771\n",
       "8                        Rowes Wharf - Atlantic Ave   25880  27596     -1716\n",
       "10                    B.U. Central - 725 Comm. Ave.   16056  17646     -1590\n",
       "11                               Post Office Square   22886  24467     -1581\n",
       "14                               Congress / Sleeper   19026  20467     -1441\n",
       "15                                     Davis Square    7959   9250     -1291\n",
       "16                    Agganis Arena - 925 Comm Ave.   17005  18292     -1287\n",
       "18  Harvard Kennedy School at Bennett St / Eliot St   10194  11400     -1206"
      ]
     },
     "metadata": {},
     "output_type": "display_data"
    }
   ],
   "source": [
    "# Top 10 sources (positive net) and sinks (negative net)\n",
    "top_sources = df_flow.sort_values(\"net_flow\", ascending=False).head(10)\n",
    "top_sinks   = df_flow.sort_values(\"net_flow\", ascending=True).head(10)\n",
    "\n",
    "display(top_sources[[\"station_name\",\"starts\",\"ends\",\"net_flow\"]])\n",
    "display(top_sinks[[\"station_name\",\"starts\",\"ends\",\"net_flow\"]])"
   ]
  },
  {
   "cell_type": "markdown",
   "id": "759bb5e9-086b-4f84-9eb6-da5ad606845b",
   "metadata": {},
   "source": [
    "### 5.3 Visualization: Net Inflow vs Outflow"
   ]
  },
  {
   "cell_type": "code",
   "execution_count": 19,
   "id": "8e0e2b19-7796-4d1b-9d53-130c576cd544",
   "metadata": {},
   "outputs": [
    {
     "data": {
      "image/png": "[encoded data removed]",
      "text/plain": [
       "<Figure size 1000x600 with 1 Axes>"
      ]
     },
     "metadata": {},
     "output_type": "display_data"
    }
   ],
   "source": [
    "df_top_abs = pd.concat([top_sources, top_sinks], axis=0)\n",
    "df_top_abs = df_top_abs.reindex(df_top_abs[\"net_flow\"].abs().sort_values(ascending=False).index)\n",
    "\n",
    "plt.figure(figsize=(10, 6))\n",
    "plt.barh(df_top_abs[\"station_name\"], df_top_abs[\"net_flow\"])\n",
    "plt.axvline(0, linewidth=1)  # zero line\n",
    "plt.title(\"Top Stations by Net Flow (starts − ends)\")\n",
    "plt.xlabel(\"Net Flow (positive = source, negative = sink)\")\n",
    "plt.ylabel(\"Station\")\n",
    "\n",
    "m = df_top_abs[\"net_flow\"].abs().max()\n",
    "plt.xlim(-m * 1.1, m * 1.1)\n",
    "\n",
    "plt.tight_layout()\n",
    "plt.show()"
   ]
  },
  {
   "cell_type": "markdown",
   "id": "ed816ddd-9fef-43d2-b0b3-aa3dc5f626cc",
   "metadata": {},
   "source": [
    "Bars to the right are sources (more starts than ends), and bars to the left are sinks (more ends than starts); the largest imbalances indicate where rebalancing is most needed."
   ]
  },
  {
   "cell_type": "markdown",
   "id": "adb88d93-2f0b-4026-88f8-03e61ba6d28d",
   "metadata": {},
   "source": [
    "### 5.4 Interpretation\n",
    "Several stations act as persistent **sources** while others are clear **sinks,** reflecting directional commuter flows into downtown in the morning and out in the evening. These patterns imply a need for targeted **bike rebalancing** at sink stations during peak periods to maintain availability."
   ]
  },
  {
   "cell_type": "markdown",
   "id": "2f205b95-aee3-4500-9d65-b1dfe048b6d4",
   "metadata": {},
   "source": [
    "## 6. User Type Comparison\n",
    "Compare trip behavior between subscriber and casual users."
   ]
  },
  {
   "cell_type": "markdown",
   "id": "dcce12b3-3c5e-4eaa-be7f-450ef0c05030",
   "metadata": {},
   "source": [
    "### 6.1 Query: Average Trip Duration by User Trip"
   ]
  },
  {
   "cell_type": "code",
   "execution_count": 21,
   "id": "49d1bbd1-3b47-4fd1-b1bf-999d4603ab1d",
   "metadata": {},
   "outputs": [
    {
     "data": {
      "text/html": [
       "<div>\n",
       "<style scoped>\n",
       "    .dataframe tbody tr th:only-of-type {\n",
       "        vertical-align: middle;\n",
       "    }\n",
       "\n",
       "    .dataframe tbody tr th {\n",
       "        vertical-align: top;\n",
       "    }\n",
       "\n",
       "    .dataframe thead th {\n",
       "        text-align: right;\n",
       "    }\n",
       "</style>\n",
       "<table border=\"1\" class=\"dataframe\">\n",
       "  <thead>\n",
       "    <tr style=\"text-align: right;\">\n",
       "      <th></th>\n",
       "      <th>user_type</th>\n",
       "      <th>total_trips</th>\n",
       "      <th>avg_duration</th>\n",
       "      <th>min_duration</th>\n",
       "      <th>max_duration</th>\n",
       "    </tr>\n",
       "  </thead>\n",
       "  <tbody>\n",
       "    <tr>\n",
       "      <th>0</th>\n",
       "      <td>Casual</td>\n",
       "      <td>464804</td>\n",
       "      <td>1519.66</td>\n",
       "      <td>3.0</td>\n",
       "      <td>9999.0</td>\n",
       "    </tr>\n",
       "    <tr>\n",
       "      <th>1</th>\n",
       "      <td>Registered</td>\n",
       "      <td>1100808</td>\n",
       "      <td>659.64</td>\n",
       "      <td>1.0</td>\n",
       "      <td>9995.0</td>\n",
       "    </tr>\n",
       "  </tbody>\n",
       "</table>\n",
       "</div>"
      ],
      "text/plain": [
       "    user_type  total_trips  avg_duration  min_duration  max_duration\n",
       "0      Casual       464804       1519.66           3.0        9999.0\n",
       "1  Registered      1100808        659.64           1.0        9995.0"
      ]
     },
     "execution_count": 21,
     "metadata": {},
     "output_type": "execute_result"
    }
   ],
   "source": [
    "sql_user_type = \"\"\"\n",
    "SELECT\n",
    "    sub_type AS user_type,\n",
    "    COUNT(*) AS total_trips,\n",
    "    ROUND(AVG(duration), 2) AS avg_duration, \n",
    "    ROUND(MIN(duration), 2) AS min_duration,\n",
    "    ROUND(MAX(duration), 2) AS max_duration\n",
    "FROM trips\n",
    "WHERE duration > 0  AND sub_type IS NOT NULL\n",
    "GROUP BY sub_type\n",
    "ORDER BY avg_duration DESC;\n",
    "\"\"\"\n",
    "\n",
    "df_user_type = run_sql(sql_user_type)\n",
    "df_user_type"
   ]
  },
  {
   "cell_type": "markdown",
   "id": "50f68584-1b56-4931-8c1e-8560fdc45b0d",
   "metadata": {},
   "source": [
    "### 6.2 Visualization: Trip Duration by User Type"
   ]
  },
  {
   "cell_type": "code",
   "execution_count": 22,
   "id": "50ca2b59-1011-44b0-a91b-48db7c6e118d",
   "metadata": {
    "scrolled": true
   },
   "outputs": [
    {
     "data": {
      "image/png": "[encoded data removed]",
      "text/plain": [
       "<Figure size 800x500 with 1 Axes>"
      ]
     },
     "metadata": {},
     "output_type": "display_data"
    }
   ],
   "source": [
    "import seaborn as sns\n",
    "\n",
    "sql_user_durations = \"\"\"\n",
    "SELECT sub_type AS user_type, duration\n",
    "FROM trips\n",
    "WHERE duration > 0 AND duration < 2000 AND sub_type IS NOT NULL;\n",
    "\"\"\"\n",
    "df_durations = run_sql(sql_user_durations)\n",
    "\n",
    "plt.figure(figsize=(8,5))\n",
    "sns.boxplot(x=\"user_type\", y=\"duration\", data=df_durations)\n",
    "plt.title(\"Trip Duration by User Type\")\n",
    "plt.xlabel(\"User Type\")\n",
    "plt.ylabel(\"Trip Duration (minutes)\")\n",
    "plt.tight_layout()\n",
    "plt.show()"
   ]
  },
  {
   "cell_type": "markdown",
   "id": "2878d64f-f53d-497b-9721-8e803d4c4a2c",
   "metadata": {},
   "source": [
    " Casual riders show higher medians and wider variance in trip duration, while Registered riders take shorter, more consistent rides."
   ]
  },
  {
   "cell_type": "markdown",
   "id": "7568e16c-0d6e-4b74-8a93-41d9c3064d9c",
   "metadata": {},
   "source": [
    "### 6.3 Interpretation\n",
    "\n",
    "Casual users typically take **longer, leisure-oriented** trips, whereas Registered users make **shorter, routine commutes.** This split suggests different pricing/availability strategies (e.g., commuter-hour bike placement for Registered users, weekend coverage for Casual users). A simple follow-up (t-test or Mann-Whitney) could quantify the difference in medians."
   ]
  },
  {
   "cell_type": "markdown",
   "id": "54138ad9-e9cc-4d52-96d0-38019b3237e4",
   "metadata": {},
   "source": [
    "## 7.  Frequent Routes\n",
    "Identify the most common station-to-station routes."
   ]
  },
  {
   "cell_type": "markdown",
   "id": "4947a996-e647-4e43-832c-c302c680d477",
   "metadata": {},
   "source": [
    "### 7.1 Query: Top Station-to-Station Routes"
   ]
  },
  {
   "cell_type": "code",
   "execution_count": 24,
   "id": "48e51813-46f6-41a1-a7f4-0f535817ad55",
   "metadata": {},
   "outputs": [
    {
     "data": {
      "text/html": [
       "<div>\n",
       "<style scoped>\n",
       "    .dataframe tbody tr th:only-of-type {\n",
       "        vertical-align: middle;\n",
       "    }\n",
       "\n",
       "    .dataframe tbody tr th {\n",
       "        vertical-align: top;\n",
       "    }\n",
       "\n",
       "    .dataframe thead th {\n",
       "        text-align: right;\n",
       "    }\n",
       "</style>\n",
       "<table border=\"1\" class=\"dataframe\">\n",
       "  <thead>\n",
       "    <tr style=\"text-align: right;\">\n",
       "      <th></th>\n",
       "      <th>start_station</th>\n",
       "      <th>end_station</th>\n",
       "      <th>trip_count</th>\n",
       "    </tr>\n",
       "  </thead>\n",
       "  <tbody>\n",
       "    <tr>\n",
       "      <th>0</th>\n",
       "      <td>Beacon St / Mass Ave</td>\n",
       "      <td>MIT at Mass Ave / Amherst St</td>\n",
       "      <td>5185</td>\n",
       "    </tr>\n",
       "    <tr>\n",
       "      <th>1</th>\n",
       "      <td>MIT at Mass Ave / Amherst St</td>\n",
       "      <td>Beacon St / Mass Ave</td>\n",
       "      <td>4993</td>\n",
       "    </tr>\n",
       "    <tr>\n",
       "      <th>2</th>\n",
       "      <td>Lewis Wharf - Atlantic Ave.</td>\n",
       "      <td>South Station - 700 Atlantic Ave.</td>\n",
       "      <td>4380</td>\n",
       "    </tr>\n",
       "    <tr>\n",
       "      <th>3</th>\n",
       "      <td>South Station - 700 Atlantic Ave.</td>\n",
       "      <td>Lewis Wharf - Atlantic Ave.</td>\n",
       "      <td>4202</td>\n",
       "    </tr>\n",
       "    <tr>\n",
       "      <th>4</th>\n",
       "      <td>The Esplanade - Beacon St. at Arlington St.</td>\n",
       "      <td>The Esplanade - Beacon St. at Arlington St.</td>\n",
       "      <td>3064</td>\n",
       "    </tr>\n",
       "    <tr>\n",
       "      <th>5</th>\n",
       "      <td>South Station - 700 Atlantic Ave.</td>\n",
       "      <td>Rowes Wharf - Atlantic Ave</td>\n",
       "      <td>3059</td>\n",
       "    </tr>\n",
       "    <tr>\n",
       "      <th>6</th>\n",
       "      <td>Kenmore Sq / Comm Ave</td>\n",
       "      <td>MIT at Mass Ave / Amherst St</td>\n",
       "      <td>2751</td>\n",
       "    </tr>\n",
       "    <tr>\n",
       "      <th>7</th>\n",
       "      <td>Charles Circle - Charles St. at Cambridge St.</td>\n",
       "      <td>Charles Circle - Charles St. at Cambridge St.</td>\n",
       "      <td>2739</td>\n",
       "    </tr>\n",
       "    <tr>\n",
       "      <th>8</th>\n",
       "      <td>Aquarium Station - 200 Atlantic Ave.</td>\n",
       "      <td>South Station - 700 Atlantic Ave.</td>\n",
       "      <td>2713</td>\n",
       "    </tr>\n",
       "    <tr>\n",
       "      <th>9</th>\n",
       "      <td>Boylston St. at Arlington St.</td>\n",
       "      <td>South Station - 700 Atlantic Ave.</td>\n",
       "      <td>2704</td>\n",
       "    </tr>\n",
       "  </tbody>\n",
       "</table>\n",
       "</div>"
      ],
      "text/plain": [
       "                                   start_station  \\\n",
       "0                           Beacon St / Mass Ave   \n",
       "1                   MIT at Mass Ave / Amherst St   \n",
       "2                    Lewis Wharf - Atlantic Ave.   \n",
       "3              South Station - 700 Atlantic Ave.   \n",
       "4    The Esplanade - Beacon St. at Arlington St.   \n",
       "5              South Station - 700 Atlantic Ave.   \n",
       "6                          Kenmore Sq / Comm Ave   \n",
       "7  Charles Circle - Charles St. at Cambridge St.   \n",
       "8           Aquarium Station - 200 Atlantic Ave.   \n",
       "9                  Boylston St. at Arlington St.   \n",
       "\n",
       "                                     end_station  trip_count  \n",
       "0                   MIT at Mass Ave / Amherst St        5185  \n",
       "1                           Beacon St / Mass Ave        4993  \n",
       "2              South Station - 700 Atlantic Ave.        4380  \n",
       "3                    Lewis Wharf - Atlantic Ave.        4202  \n",
       "4    The Esplanade - Beacon St. at Arlington St.        3064  \n",
       "5                     Rowes Wharf - Atlantic Ave        3059  \n",
       "6                   MIT at Mass Ave / Amherst St        2751  \n",
       "7  Charles Circle - Charles St. at Cambridge St.        2739  \n",
       "8              South Station - 700 Atlantic Ave.        2713  \n",
       "9              South Station - 700 Atlantic Ave.        2704  "
      ]
     },
     "execution_count": 24,
     "metadata": {},
     "output_type": "execute_result"
    }
   ],
   "source": [
    "sql_routes = \"\"\"\n",
    "SELECT\n",
    "    s1.station AS start_station,\n",
    "    s2.station AS end_station,\n",
    "    COUNT(*) AS trip_count\n",
    "FROM trips t\n",
    "JOIN stations s1 ON t.start_station = s1.id\n",
    "JOIN stations s2 ON t.end_station = s2.id\n",
    "WHERE t.start_station IS NOT NULL AND t.end_station IS NOT NULL\n",
    "GROUP BY s1.station, s2.station\n",
    "ORDER BY trip_count DESC\n",
    "LIMIT 10;\n",
    "\"\"\"\n",
    "\n",
    "df_routes = run_sql(sql_routes)\n",
    "df_routes"
   ]
  },
  {
   "cell_type": "markdown",
   "id": "0b06917f-6225-4f86-8a62-f3d3951caab3",
   "metadata": {},
   "source": [
    "Top 10 most frequently traveled station pairs, sorted by total trip count."
   ]
  },
  {
   "cell_type": "markdown",
   "id": "a76f3a19-0547-4665-b055-35c8cb055b4c",
   "metadata": {},
   "source": [
    "### 7.2 Interpretation\n",
    "The most frequent routes **connect key commuter and transit hubs,** such as **Beacon St / Mass Ave to MIT at Mass Ave / Amherst St** and **South Station to Lewis Wharf.** These high-volume corridors indicate strong, consistent demand between university zones, downtown, and waterfront areas. The presence of several **bidirectional routes** suggests balanced traffic flows, reflecting a mix of commuting and leisure movement within central city zones."
   ]
  },
  {
   "cell_type": "markdown",
   "id": "291a17b1-6690-43e5-8d74-f195b645a956",
   "metadata": {},
   "source": [
    "## 8. Repeat Riders\n",
    "Measure rider loyalty and activity frequency."
   ]
  },
  {
   "cell_type": "markdown",
   "id": "f7260840-8362-4f1f-892f-24b3c46ab8e6",
   "metadata": {},
   "source": [
    "### 8.1 Query: Fraction of Repeat Riders"
   ]
  },
  {
   "cell_type": "code",
   "execution_count": 26,
   "id": "c19cbae7-eeea-40f4-b864-d684f4113fca",
   "metadata": {},
   "outputs": [
    {
     "data": {
      "text/html": [
       "<div>\n",
       "<style scoped>\n",
       "    .dataframe tbody tr th:only-of-type {\n",
       "        vertical-align: middle;\n",
       "    }\n",
       "\n",
       "    .dataframe tbody tr th {\n",
       "        vertical-align: top;\n",
       "    }\n",
       "\n",
       "    .dataframe thead th {\n",
       "        text-align: right;\n",
       "    }\n",
       "</style>\n",
       "<table border=\"1\" class=\"dataframe\">\n",
       "  <thead>\n",
       "    <tr style=\"text-align: right;\">\n",
       "      <th></th>\n",
       "      <th>user_type</th>\n",
       "      <th>pct_repeat_day</th>\n",
       "      <th>pct_repeat_week</th>\n",
       "    </tr>\n",
       "  </thead>\n",
       "  <tbody>\n",
       "    <tr>\n",
       "      <th>0</th>\n",
       "      <td>Casual</td>\n",
       "      <td>64.81</td>\n",
       "      <td>56.50</td>\n",
       "    </tr>\n",
       "    <tr>\n",
       "      <th>1</th>\n",
       "      <td>Registered</td>\n",
       "      <td>77.77</td>\n",
       "      <td>90.66</td>\n",
       "    </tr>\n",
       "  </tbody>\n",
       "</table>\n",
       "</div>"
      ],
      "text/plain": [
       "    user_type  pct_repeat_day  pct_repeat_week\n",
       "0      Casual           64.81            56.50\n",
       "1  Registered           77.77            90.66"
      ]
     },
     "execution_count": 26,
     "metadata": {},
     "output_type": "execute_result"
    }
   ],
   "source": [
    "sql_repeat = \"\"\"\n",
    "WITH daily_trips AS (\n",
    "  SELECT\n",
    "    sub_type AS user_type,\n",
    "    zip_code AS user_id,                        \n",
    "    DATE(start_date) AS trip_day,\n",
    "    COUNT(*) AS trips_per_day\n",
    "  FROM trips\n",
    "  WHERE start_date IS NOT NULL AND zip_code IS NOT NULL\n",
    "  GROUP BY user_type, user_id, trip_day\n",
    "),\n",
    "weekly_trips AS (\n",
    "  SELECT\n",
    "    sub_type AS user_type,\n",
    "    zip_code AS user_id,\n",
    "    STRFTIME('%Y-%W', start_date) AS trip_week,\n",
    "    COUNT(*) AS trips_per_week\n",
    "  FROM trips\n",
    "  WHERE start_date IS NOT NULL AND zip_code IS NOT NULL\n",
    "  GROUP BY user_type, user_id, trip_week\n",
    "),\n",
    "daily_summary AS (\n",
    "  SELECT\n",
    "    user_type,\n",
    "    ROUND(100.0 * SUM(CASE WHEN trips_per_day > 1 THEN 1 ELSE 0 END) / COUNT(*), 2) AS pct_repeat_day\n",
    "  FROM daily_trips\n",
    "  GROUP BY user_type\n",
    "),\n",
    "weekly_summary AS (\n",
    "  SELECT\n",
    "    user_type,\n",
    "    ROUND(100.0 * SUM(CASE WHEN trips_per_week > 1 THEN 1 ELSE 0 END) / COUNT(*), 2) AS pct_repeat_week\n",
    "  FROM weekly_trips\n",
    "  GROUP BY user_type\n",
    ")\n",
    "SELECT\n",
    "  d.user_type,\n",
    "  d.pct_repeat_day,\n",
    "  w.pct_repeat_week\n",
    "FROM daily_summary d\n",
    "JOIN weekly_summary w USING (user_type);\n",
    "\"\"\"\n",
    "\n",
    "df_repeat = run_sql(sql_repeat)\n",
    "df_repeat"
   ]
  },
  {
   "cell_type": "markdown",
   "id": "e75b7749-e9e5-4752-b58d-468c78c55e97",
   "metadata": {},
   "source": [
    "Percentage of riders taking multiple trips per day or week, by user type."
   ]
  },
  {
   "cell_type": "markdown",
   "id": "5b8a2e95-919d-4bfc-90a9-967ce0ec81dd",
   "metadata": {},
   "source": [
    "### 8.2 Interpretation\n",
    "A large share of riders take multiple trips within the same day or week, especially **Registered users,** with **77.8% repeating daily** and **90.7% weekly.** This pattern reflects consistent, commuter-style usage. In contrast, **Casual users** show lower repeat rates **(64.8% daily and 56.5% weekly),** indicating more occasional or leisure-based riding behavior."
   ]
  },
  {
   "cell_type": "markdown",
   "id": "dbfa2016-9b8f-40fb-abe0-61a82417abd4",
   "metadata": {},
   "source": [
    "## 9. Trip Duration Outliers\n",
    "Identify unusually long trips by examining the distribution."
   ]
  },
  {
   "cell_type": "markdown",
   "id": "69282a52-b5c9-4365-ab23-f059e232bfe5",
   "metadata": {},
   "source": [
    "### 9.1 Query: Identify 95th Percentile Duration"
   ]
  },
  {
   "cell_type": "code",
   "execution_count": 28,
   "id": "0f98a28d-1311-41e6-9705-28f032380a47",
   "metadata": {},
   "outputs": [
    {
     "data": {
      "text/html": [
       "<div>\n",
       "<style scoped>\n",
       "    .dataframe tbody tr th:only-of-type {\n",
       "        vertical-align: middle;\n",
       "    }\n",
       "\n",
       "    .dataframe tbody tr th {\n",
       "        vertical-align: top;\n",
       "    }\n",
       "\n",
       "    .dataframe thead th {\n",
       "        text-align: right;\n",
       "    }\n",
       "</style>\n",
       "<table border=\"1\" class=\"dataframe\">\n",
       "  <thead>\n",
       "    <tr style=\"text-align: right;\">\n",
       "      <th></th>\n",
       "      <th>avg_duration</th>\n",
       "      <th>max_duration</th>\n",
       "      <th>p95_duration</th>\n",
       "    </tr>\n",
       "  </thead>\n",
       "  <tbody>\n",
       "    <tr>\n",
       "      <th>0</th>\n",
       "      <td>914.97</td>\n",
       "      <td>9999.0</td>\n",
       "      <td>2340.0</td>\n",
       "    </tr>\n",
       "  </tbody>\n",
       "</table>\n",
       "</div>"
      ],
      "text/plain": [
       "   avg_duration  max_duration  p95_duration\n",
       "0        914.97        9999.0        2340.0"
      ]
     },
     "execution_count": 28,
     "metadata": {},
     "output_type": "execute_result"
    }
   ],
   "source": [
    "sql_outliers = \"\"\"\n",
    "WITH duration_rank AS (\n",
    "  SELECT\n",
    "    duration,\n",
    "    PERCENT_RANK() OVER (ORDER BY duration) AS pct_rank\n",
    "  FROM trips\n",
    "  WHERE duration > 0\n",
    ")\n",
    "SELECT\n",
    "  ROUND(AVG(duration), 2) AS avg_duration,\n",
    "  ROUND(MAX(duration), 2) AS max_duration,\n",
    "  ROUND((SELECT duration FROM duration_rank WHERE pct_rank <= 0.95 ORDER BY duration DESC LIMIT 1), 2) AS p95_duration\n",
    "FROM duration_rank;\n",
    "\"\"\"\n",
    "\n",
    "df_outliers = run_sql(sql_outliers)\n",
    "df_outliers"
   ]
  },
  {
   "cell_type": "markdown",
   "id": "2e6288d6-5c11-4e85-88a2-dda7a81a9c87",
   "metadata": {},
   "source": [
    "### 9.2 Visualization: Trip Durations with 95th Percentile Line"
   ]
  },
  {
   "cell_type": "code",
   "execution_count": 29,
   "id": "7789e9c2-b7aa-4321-9dfc-a8e0a70ef88f",
   "metadata": {},
   "outputs": [
    {
     "data": {
      "image/png": "[encoded data removed]",
      "text/plain": [
       "<Figure size 900x500 with 1 Axes>"
      ]
     },
     "metadata": {},
     "output_type": "display_data"
    }
   ],
   "source": [
    "p95 = df_outliers[\"p95_duration\"].iloc[0]\n",
    "\n",
    "sql_durations = \"SELECT duration FROM trips WHERE duration > 0 AND duration < 10000;\"\n",
    "df_durations = run_sql(sql_durations)\n",
    "\n",
    "plt.figure(figsize=(9,5))\n",
    "plt.hist(df_durations[\"duration\"], bins=50, color=\"#4a90e2\", alpha=0.7)\n",
    "plt.axvline(p95, color=\"red\", linestyle=\"--\", linewidth=2, label=f\"95th percentile = {p95:.0f} min\")\n",
    "plt.title(\"Distribution of Trip Durations\")\n",
    "plt.xlabel(\"Trip Duration (minutes)\")\n",
    "plt.ylabel(\"Number of Trips\")\n",
    "plt.legend()\n",
    "plt.tight_layout()\n",
    "plt.show()"
   ]
  },
  {
   "cell_type": "markdown",
   "id": "93c01567-5682-42c8-834a-ea7de102edee",
   "metadata": {},
   "source": [
    " Distribution of trip durations, showing a long right tail with the 95th percentile marked at 2,340 minutes."
   ]
  },
  {
   "cell_type": "markdown",
   "id": "46fb9a60-e14b-41f8-9139-3047aed7bc3f",
   "metadata": {},
   "source": [
    "### 9.3 Interpretation\n",
    "Most trips are relatively short, with an average of **~915 minutes,** but a small fraction extend far beyond this range, forming a pronounced **right-skewed tail.** These unusually long durations likely represent **leisure rides, stalled trips, or data entry errors,** and may require additional filtering or treatment in future analyses."
   ]
  },
  {
   "cell_type": "markdown",
   "id": "4cfaed63-6009-4496-9400-b84f59784cd3",
   "metadata": {},
   "source": [
    "## Conclusion"
   ]
  },
  {
   "cell_type": "markdown",
   "id": "ab65bdc1-b41e-4ed6-92af-2fe1679ff5f0",
   "metadata": {},
   "source": [
    "This analysis reveals distinct ridership patterns: rapid early growth, strong weekday commuter peaks, and clear seasonal variation in trip duration. Central stations such as South Station and Boston Public Library dominate both trip starts and ends, with directional imbalances highlighting the need for periodic bike rebalancing. Registered users show higher activity and repeat rates, reflecting routine commuting, while casual users take fewer but longer leisure rides.\n",
    "\n",
    "Future analysis could incorporate weather, time of day, and demographic data to build predictive models of demand and improve bike availability across the network."
   ]
  }
 ],
 "metadata": {
  "kernelspec": {
   "display_name": "Python (rideshare)",
   "language": "python",
   "name": "rideshare"
  },
  "language_info": {
   "codemirror_mode": {
    "name": "ipython",
    "version": 3
   },
   "file_extension": ".py",
   "mimetype": "text/x-python",
   "name": "python",
   "nbconvert_exporter": "python",
   "pygments_lexer": "ipython3",
   "version": "3.13.7"
  }
 },
 "nbformat": 4,
 "nbformat_minor": 5
}
